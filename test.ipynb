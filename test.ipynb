{
 "cells": [
  {
   "cell_type": "markdown",
   "metadata": {},
   "source": [
    "# Imported lib"
   ]
  },
  {
   "cell_type": "code",
   "execution_count": 1,
   "metadata": {},
   "outputs": [],
   "source": [
    "import numpy as np\n",
    "import pandas as pd\n",
    "import matplotlib.pyplot as plt \n",
    "from PIL import Image\n",
    "import os\n",
    "os.chdir('D:/Project 4')\n",
    "from sklearn.model_selection import train_test_split\n",
    "from sklearn.metrics import accuracy_score\n",
    "from keras.utils import to_categorical\n",
    "from keras.models import Sequential, load_model\n",
    "from keras.layers import Conv2D, MaxPool2D, Dense, Flatten, Dropout"
   ]
  },
  {
   "cell_type": "markdown",
   "metadata": {},
   "source": [
    "Store data \n"
   ]
  },
  {
   "cell_type": "code",
   "execution_count": 2,
   "metadata": {},
   "outputs": [],
   "source": [
    "data = []\n",
    "labels = []\n",
    "classes = 43\n",
    "cur_path = os.getcwd()"
   ]
  },
  {
   "cell_type": "code",
   "execution_count": 3,
   "metadata": {},
   "outputs": [
    {
     "data": {
      "text/plain": [
       "'D:\\\\Project 4'"
      ]
     },
     "execution_count": 3,
     "metadata": {},
     "output_type": "execute_result"
    }
   ],
   "source": [
    "cur_path"
   ]
  },
  {
   "cell_type": "markdown",
   "metadata": {},
   "source": [
    "Preprocessing the image\n"
   ]
  },
  {
   "cell_type": "code",
   "execution_count": 4,
   "metadata": {},
   "outputs": [],
   "source": [
    "#Retrieving the images and their labels\n",
    "for i in range(classes):\n",
    "    path = os.path.join(cur_path,'Train',str(i))\n",
    "    images = os.listdir(path)\n",
    "    for a in images:\n",
    "        try:\n",
    "            image = Image.open(path + '\\\\'+ a)\n",
    "            image = image.resize((30,30))\n",
    "            image = np.array(image)\n",
    "            #sim = Image.fromarray(image)\n",
    "            data.append(image)\n",
    "            labels.append(i)\n",
    "        except:\n",
    "            print(\"Error loading image\")\n"
   ]
  },
  {
   "cell_type": "markdown",
   "metadata": {},
   "source": [
    "Converting the list into numpy array\n"
   ]
  },
  {
   "cell_type": "code",
   "execution_count": 7,
   "metadata": {},
   "outputs": [],
   "source": [
    "#Converting lists into numpy arrays\n",
    "data = np.array(data)\n",
    "labels = np.array(labels)\n"
   ]
  },
  {
   "cell_type": "markdown",
   "metadata": {},
   "source": [
    "Save the data and labels for future use"
   ]
  },
  {
   "cell_type": "code",
   "execution_count": 8,
   "metadata": {},
   "outputs": [
    {
     "name": "stdout",
     "output_type": "stream",
     "text": [
      "all ready folder is present\n",
      "data save successfully\n"
     ]
    }
   ],
   "source": [
    "try:\n",
    "    os.mkdir('Training')\n",
    "except:\n",
    "    print(\"all ready folder is present\")\n",
    "finally:\n",
    "    np.save('./Training/data',data)\n",
    "    np.save('./Training/labels',labels)\n",
    "    print(\"data save successfully\")"
   ]
  },
  {
   "cell_type": "markdown",
   "metadata": {},
   "source": [
    "Load the data and labels"
   ]
  },
  {
   "cell_type": "code",
   "execution_count": 9,
   "metadata": {},
   "outputs": [],
   "source": [
    "data = np.load('./Training/data.npy')\n",
    "labels = np.load('./Training/labels.npy')"
   ]
  },
  {
   "cell_type": "code",
   "execution_count": 10,
   "metadata": {},
   "outputs": [
    {
     "name": "stdout",
     "output_type": "stream",
     "text": [
      "(39209, 30, 30, 3) (39209,)\n"
     ]
    }
   ],
   "source": [
    "print(data.shape,labels.shape)"
   ]
  },
  {
   "cell_type": "markdown",
   "metadata": {},
   "source": [
    "Splitting training and testing dataset"
   ]
  },
  {
   "cell_type": "code",
   "execution_count": 9,
   "metadata": {},
   "outputs": [],
   "source": [
    "X_train, X_test, y_train, y_test = train_test_split(data, labels, test_size=0.2, random_state=0)"
   ]
  },
  {
   "cell_type": "code",
   "execution_count": 10,
   "metadata": {},
   "outputs": [
    {
     "name": "stdout",
     "output_type": "stream",
     "text": [
      "(31367, 30, 30, 3) (7842, 30, 30, 3) (31367,) (7842,)\n"
     ]
    }
   ],
   "source": [
    "print(X_train.shape, X_test.shape, y_train.shape, y_test.shape)"
   ]
  },
  {
   "cell_type": "markdown",
   "metadata": {},
   "source": [
    "Converting the labels into one hot encoding"
   ]
  },
  {
   "cell_type": "code",
   "execution_count": 11,
   "metadata": {},
   "outputs": [],
   "source": [
    "y_train = to_categorical(y_train, 43)\n",
    "y_test = to_categorical(y_test, 43)\n"
   ]
  },
  {
   "cell_type": "markdown",
   "metadata": {},
   "source": [
    "Building the model"
   ]
  },
  {
   "cell_type": "code",
   "execution_count": 12,
   "metadata": {},
   "outputs": [],
   "source": [
    "model = Sequential()\n",
    "model.add(Conv2D(filters=32, kernel_size=(5,5), activation='relu', input_shape=X_train.shape[1:]))\n",
    "model.add(Conv2D(filters=32, kernel_size=(5,5), activation='relu'))\n",
    "model.add(MaxPool2D(pool_size=(2, 2)))\n",
    "model.add(Dropout(rate=0.25))\n",
    "model.add(Conv2D(filters=64, kernel_size=(3, 3), activation='relu'))\n",
    "model.add(Conv2D(filters=64, kernel_size=(3, 3), activation='relu'))\n",
    "model.add(MaxPool2D(pool_size=(2, 2)))\n",
    "model.add(Dropout(rate=0.25))\n",
    "model.add(Flatten())\n",
    "model.add(Dense(256, activation='relu'))\n",
    "model.add(Dropout(rate=0.5))\n",
    "model.add(Dense(43, activation='softmax'))\n"
   ]
  },
  {
   "cell_type": "markdown",
   "metadata": {},
   "source": [
    "Compilation of the model"
   ]
  },
  {
   "cell_type": "code",
   "execution_count": 13,
   "metadata": {},
   "outputs": [],
   "source": [
    "model.compile(loss='categorical_crossentropy', optimizer='adam', metrics=['accuracy'])"
   ]
  },
  {
   "cell_type": "code",
   "execution_count": 15,
   "metadata": {},
   "outputs": [
    {
     "name": "stdout",
     "output_type": "stream",
     "text": [
      "Epoch 1/30\n",
      "981/981 [==============================] - 59s 60ms/step - loss: 0.6173 - accuracy: 0.8148 - val_loss: 0.2488 - val_accuracy: 0.9397\n",
      "Epoch 2/30\n",
      "981/981 [==============================] - 60s 61ms/step - loss: 0.4932 - accuracy: 0.8535 - val_loss: 0.1867 - val_accuracy: 0.9501\n",
      "Epoch 3/30\n",
      "981/981 [==============================] - 60s 61ms/step - loss: 0.4140 - accuracy: 0.8775 - val_loss: 0.1637 - val_accuracy: 0.9527\n",
      "Epoch 4/30\n",
      "981/981 [==============================] - 61s 62ms/step - loss: 0.4165 - accuracy: 0.8775 - val_loss: 0.1634 - val_accuracy: 0.9501\n",
      "Epoch 5/30\n",
      "981/981 [==============================] - 62s 63ms/step - loss: 0.3598 - accuracy: 0.8929 - val_loss: 0.1318 - val_accuracy: 0.9630\n",
      "Epoch 6/30\n",
      "981/981 [==============================] - 62s 63ms/step - loss: 0.3450 - accuracy: 0.8983 - val_loss: 0.0997 - val_accuracy: 0.9719\n",
      "Epoch 7/30\n",
      "981/981 [==============================] - 62s 63ms/step - loss: 0.3180 - accuracy: 0.9053 - val_loss: 0.0883 - val_accuracy: 0.9749\n",
      "Epoch 8/30\n",
      "981/981 [==============================] - 68s 69ms/step - loss: 0.3276 - accuracy: 0.9042 - val_loss: 0.0965 - val_accuracy: 0.9722\n",
      "Epoch 9/30\n",
      "981/981 [==============================] - 65s 66ms/step - loss: 0.2951 - accuracy: 0.9128 - val_loss: 0.1021 - val_accuracy: 0.9697\n",
      "Epoch 10/30\n",
      "981/981 [==============================] - 63s 64ms/step - loss: 0.2893 - accuracy: 0.9144 - val_loss: 0.1182 - val_accuracy: 0.9638\n",
      "Epoch 11/30\n",
      "981/981 [==============================] - 62s 64ms/step - loss: 0.2963 - accuracy: 0.9142 - val_loss: 0.0853 - val_accuracy: 0.9759\n",
      "Epoch 12/30\n",
      "981/981 [==============================] - 62s 64ms/step - loss: 0.2777 - accuracy: 0.9195 - val_loss: 0.1004 - val_accuracy: 0.9713\n",
      "Epoch 13/30\n",
      "981/981 [==============================] - 63s 64ms/step - loss: 0.2900 - accuracy: 0.9168 - val_loss: 0.1021 - val_accuracy: 0.9702\n",
      "Epoch 14/30\n",
      "981/981 [==============================] - 62s 64ms/step - loss: 0.2654 - accuracy: 0.9229 - val_loss: 0.0904 - val_accuracy: 0.9735\n",
      "Epoch 15/30\n",
      "981/981 [==============================] - 63s 64ms/step - loss: 0.2673 - accuracy: 0.9251 - val_loss: 0.1325 - val_accuracy: 0.9591\n",
      "Epoch 16/30\n",
      "981/981 [==============================] - 62s 64ms/step - loss: 0.2717 - accuracy: 0.9228 - val_loss: 0.0817 - val_accuracy: 0.9764\n",
      "Epoch 17/30\n",
      "981/981 [==============================] - 63s 64ms/step - loss: 0.2829 - accuracy: 0.9192 - val_loss: 0.1026 - val_accuracy: 0.9697\n",
      "Epoch 18/30\n",
      "981/981 [==============================] - 63s 64ms/step - loss: 0.2812 - accuracy: 0.9214 - val_loss: 0.0664 - val_accuracy: 0.9816\n",
      "Epoch 19/30\n",
      "981/981 [==============================] - 63s 65ms/step - loss: 0.2663 - accuracy: 0.9254 - val_loss: 0.0721 - val_accuracy: 0.9788\n",
      "Epoch 20/30\n",
      "981/981 [==============================] - 64s 65ms/step - loss: 0.2650 - accuracy: 0.9257 - val_loss: 0.0840 - val_accuracy: 0.9760\n",
      "Epoch 21/30\n",
      "981/981 [==============================] - 63s 64ms/step - loss: 0.2609 - accuracy: 0.9264 - val_loss: 0.0748 - val_accuracy: 0.9801\n",
      "Epoch 22/30\n",
      "981/981 [==============================] - 63s 64ms/step - loss: 0.2666 - accuracy: 0.9248 - val_loss: 0.0837 - val_accuracy: 0.9762\n",
      "Epoch 23/30\n",
      "981/981 [==============================] - 63s 64ms/step - loss: 0.2504 - accuracy: 0.9324 - val_loss: 0.1099 - val_accuracy: 0.9685\n",
      "Epoch 24/30\n",
      "981/981 [==============================] - 63s 64ms/step - loss: 0.2749 - accuracy: 0.9233 - val_loss: 0.0956 - val_accuracy: 0.9709\n",
      "Epoch 25/30\n",
      "981/981 [==============================] - 63s 64ms/step - loss: 0.2639 - accuracy: 0.9293 - val_loss: 0.0784 - val_accuracy: 0.9778\n",
      "Epoch 26/30\n",
      "981/981 [==============================] - 62s 64ms/step - loss: 0.2811 - accuracy: 0.9221 - val_loss: 0.0870 - val_accuracy: 0.9732\n",
      "Epoch 27/30\n",
      "981/981 [==============================] - 64s 65ms/step - loss: 0.2590 - accuracy: 0.9304 - val_loss: 0.0604 - val_accuracy: 0.9832\n",
      "Epoch 28/30\n",
      "981/981 [==============================] - 64s 65ms/step - loss: 0.2510 - accuracy: 0.9317 - val_loss: 0.0659 - val_accuracy: 0.9795\n",
      "Epoch 29/30\n",
      "981/981 [==============================] - 63s 64ms/step - loss: 0.2555 - accuracy: 0.9288 - val_loss: 0.0853 - val_accuracy: 0.9760\n",
      "Epoch 30/30\n",
      "981/981 [==============================] - 62s 64ms/step - loss: 0.2710 - accuracy: 0.9269 - val_loss: 0.0842 - val_accuracy: 0.9765\n"
     ]
    }
   ],
   "source": [
    "# epochs = 15  #more the number more the accuracy\n",
    "epochs = 30 \n",
    "history = model.fit(X_train, y_train, batch_size=32, epochs=epochs, validation_data=(X_test, y_test))"
   ]
  },
  {
   "cell_type": "markdown",
   "metadata": {},
   "source": [
    "Saving the model data'"
   ]
  },
  {
   "cell_type": "code",
   "execution_count": 16,
   "metadata": {},
   "outputs": [
    {
     "name": "stderr",
     "output_type": "stream",
     "text": [
      "C:\\Users\\himan\\AppData\\Roaming\\Python\\Python311\\site-packages\\keras\\src\\engine\\training.py:3079: UserWarning: You are saving your model as an HDF5 file via `model.save()`. This file format is considered legacy. We recommend using instead the native Keras format, e.g. `model.save('my_model.keras')`.\n",
      "  saving_api.save_model(\n"
     ]
    }
   ],
   "source": [
    "model.save(\"./Training/my_model2.h5\")"
   ]
  },
  {
   "cell_type": "markdown",
   "metadata": {},
   "source": [
    "Plotting graphs for accuracy "
   ]
  },
  {
   "cell_type": "code",
   "execution_count": 17,
   "metadata": {},
   "outputs": [
    {
     "data": {
      "image/png": "[encoded data removed]",
      "text/plain": [
       "<Figure size 640x480 with 1 Axes>"
      ]
     },
     "metadata": {},
     "output_type": "display_data"
    },
    {
     "data": {
      "image/png": "[encoded data removed]",
      "text/plain": [
       "<Figure size 640x480 with 1 Axes>"
      ]
     },
     "metadata": {},
     "output_type": "display_data"
    }
   ],
   "source": [
    "plt.figure(0)\n",
    "plt.plot(history.history['accuracy'], label='training accuracy')\n",
    "plt.plot(history.history['val_accuracy'], label='val accuracy')\n",
    "plt.title('Accuracy')\n",
    "plt.xlabel('epochs')\n",
    "plt.ylabel('accuracy')\n",
    "plt.legend()\n",
    "plt.show()\n",
    "\n",
    "plt.figure(1)\n",
    "plt.plot(history.history['loss'], label='training loss')\n",
    "plt.plot(history.history['val_loss'], label='val loss')\n",
    "plt.title('Loss')\n",
    "plt.xlabel('epochs')\n",
    "plt.ylabel('loss')\n",
    "plt.legend()\n",
    "plt.show()"
   ]
  },
  {
   "cell_type": "markdown",
   "metadata": {},
   "source": [
    "Testing on test data\n"
   ]
  },
  {
   "cell_type": "code",
   "execution_count": 18,
   "metadata": {},
   "outputs": [],
   "source": [
    "def testing(testcsv):\n",
    "    y_test = pd.read_csv(testcsv)\n",
    "    labels = y_test[\"ClassId\"].values\n",
    "    imgs = y_test[\"Path\"].values\n",
    "    data=[]\n",
    "    for img in imgs:\n",
    "        image = Image.open(img)\n",
    "        image = image.resize((30,30))\n",
    "        data.append(np.array(image))\n",
    "    X_test=np.array(data)\n",
    "    return X_test,labels"
   ]
  },
  {
   "cell_type": "code",
   "execution_count": 19,
   "metadata": {},
   "outputs": [],
   "source": [
    "X_test, labels = testing('Test.csv')"
   ]
  },
  {
   "cell_type": "code",
   "execution_count": 20,
   "metadata": {},
   "outputs": [
    {
     "name": "stdout",
     "output_type": "stream",
     "text": [
      "395/395 [==============================] - 4s 10ms/step\n"
     ]
    },
    {
     "data": {
      "text/plain": [
       "array([[1.01597501e-25, 3.24107510e-19, 1.31683376e-23, ...,\n",
       "        1.22180199e-19, 4.05480311e-23, 1.40421343e-23],\n",
       "       [2.21550422e-09, 1.00000000e+00, 3.36660191e-14, ...,\n",
       "        2.41430310e-26, 0.00000000e+00, 0.00000000e+00],\n",
       "       [0.00000000e+00, 0.00000000e+00, 0.00000000e+00, ...,\n",
       "        0.00000000e+00, 0.00000000e+00, 0.00000000e+00],\n",
       "       ...,\n",
       "       [1.87138208e-10, 2.48879569e-05, 5.18219567e-05, ...,\n",
       "        2.48424953e-07, 3.27745397e-06, 1.38625488e-04],\n",
       "       [1.70580172e-08, 1.32146257e-03, 9.55711730e-05, ...,\n",
       "        9.34656327e-06, 2.25196351e-15, 6.38586684e-10],\n",
       "       [8.96029992e-15, 2.41733994e-10, 7.50119966e-07, ...,\n",
       "        1.43564027e-09, 2.07912479e-10, 7.35913327e-12]], dtype=float32)"
      ]
     },
     "execution_count": 20,
     "metadata": {},
     "output_type": "execute_result"
    }
   ],
   "source": [
    "Y_pred = model.predict(X_test)\n",
    "Y_pred"
   ]
  },
  {
   "cell_type": "code",
   "execution_count": 21,
   "metadata": {},
   "outputs": [
    {
     "name": "stdout",
     "output_type": "stream",
     "text": [
      "395/395 [==============================] - 4s 10ms/step\n"
     ]
    },
    {
     "data": {
      "text/plain": [
       "array([16,  1, 38, ...,  3,  7, 10], dtype=int64)"
      ]
     },
     "execution_count": 21,
     "metadata": {},
     "output_type": "execute_result"
    }
   ],
   "source": [
    "Y_pred = np.argmax(model.predict(X_test),axis=1)\n",
    "Y_pred\n"
   ]
  },
  {
   "cell_type": "markdown",
   "metadata": {},
   "source": [
    "Accuracy with test data"
   ]
  },
  {
   "cell_type": "code",
   "execution_count": 23,
   "metadata": {},
   "outputs": [
    {
     "name": "stdout",
     "output_type": "stream",
     "text": [
      "0.9380839271575614\n"
     ]
    }
   ],
   "source": [
    "print(accuracy_score(labels,Y_pred))"
   ]
  },
  {
   "cell_type": "markdown",
   "metadata": {},
   "source": [
    "Saving the model "
   ]
  },
  {
   "cell_type": "code",
   "execution_count": 24,
   "metadata": {},
   "outputs": [
    {
     "name": "stderr",
     "output_type": "stream",
     "text": [
      "C:\\Users\\himan\\AppData\\Roaming\\Python\\Python311\\site-packages\\keras\\src\\engine\\training.py:3079: UserWarning: You are saving your model as an HDF5 file via `model.save()`. This file format is considered legacy. We recommend using instead the native Keras format, e.g. `model.save('my_model.keras')`.\n",
      "  saving_api.save_model(\n"
     ]
    }
   ],
   "source": [
    "model.save(\"./Training/Tsr.h5\")"
   ]
  },
  {
   "cell_type": "markdown",
   "metadata": {},
   "source": [
    "Loading the model\n"
   ]
  },
  {
   "cell_type": "code",
   "execution_count": 5,
   "metadata": {},
   "outputs": [],
   "source": [
    "os.chdir(r'D:/Project 3')\n",
    "model = load_model('./Training/Tsr.h5')"
   ]
  },
  {
   "cell_type": "markdown",
   "metadata": {},
   "source": [
    "Classes of traffic signs"
   ]
  },
  {
   "cell_type": "code",
   "execution_count": 6,
   "metadata": {},
   "outputs": [],
   "source": [
    "classes = { 1:'Speed limit (20km/h)',\n",
    "            2:'Speed limit (30km/h)',      \n",
    "            3:'Speed limit (50km/h)',       \n",
    "            4:'Speed limit (60km/h)',      \n",
    "            5:'Speed limit (70km/h)',    \n",
    "            6:'Speed limit (80km/h)',      \n",
    "            7:'End of speed limit (80km/h)',     \n",
    "            8:'Speed limit (100km/h)',    \n",
    "            9:'Speed limit (120km/h)',     \n",
    "           10:'No passing',   \n",
    "           11:'No passing veh over 3.5 tons',     \n",
    "           12:'Right-of-way at intersection',     \n",
    "           13:'Priority road',    \n",
    "           14:'Yield',     \n",
    "           15:'Stop',       \n",
    "           16:'No vehicles',       \n",
    "           17:'Veh > 3.5 tons prohibited',       \n",
    "           18:'No entry',       \n",
    "           19:'General caution',     \n",
    "           20:'Dangerous curve left',      \n",
    "           21:'Dangerous curve right',   \n",
    "           22:'Double curve',      \n",
    "           23:'Bumpy road',     \n",
    "           24:'Slippery road',       \n",
    "           25:'Road narrows on the right',  \n",
    "           26:'Road work',    \n",
    "           27:'Traffic signals',      \n",
    "           28:'Pedestrians',     \n",
    "           29:'Children crossing',     \n",
    "           30:'Bicycles crossing',       \n",
    "           31:'Beware of ice/snow',\n",
    "           32:'Wild animals crossing',      \n",
    "           33:'End speed + passing limits',      \n",
    "           34:'Turn right ahead',     \n",
    "           35:'Turn left ahead',       \n",
    "           36:'Ahead only',      \n",
    "           37:'Go straight or right',      \n",
    "           38:'Go straight or left',      \n",
    "           39:'Keep right',     \n",
    "           40:'Keep left',      \n",
    "           41:'Roundabout mandatory',     \n",
    "           42:'End of no passing',      \n",
    "           43:'End no passing veh > 3.5 tons' }"
   ]
  },
  {
   "cell_type": "markdown",
   "metadata": {},
   "source": [
    "Function for testing image "
   ]
  },
  {
   "cell_type": "code",
   "execution_count": 7,
   "metadata": {},
   "outputs": [],
   "source": [
    "def test_on_image(img):\n",
    "    data=[]\n",
    "    image = Image.open(img)\n",
    "    image = image.resize((30,30))\n",
    "    data.append(np.array(image))\n",
    "    X_test = np.array(data)\n",
    "    Y_pred = np.argmax(model.predict(X_test),axis=1)\n",
    "    return image, Y_pred"
   ]
  },
  {
   "cell_type": "code",
   "execution_count": 14,
   "metadata": {},
   "outputs": [
    {
     "name": "stdout",
     "output_type": "stream",
     "text": [
      "1/1 [==============================] - 0s 33ms/step\n",
      "Prediction traffic sign is  Roundabout mandatory\n"
     ]
    },
    {
     "data": {
      "image/png": "[encoded data removed]",
      "text/plain": [
       "<Figure size 640x480 with 1 Axes>"
      ]
     },
     "metadata": {},
     "output_type": "display_data"
    }
   ],
   "source": [
    "plot, prediction = test_on_image(r'D:/Project 3/Test/00355.png')\n",
    "s = [str(i) for i in prediction]\n",
    "a = int(\"\".join(s))+1\n",
    "print(\"Prediction traffic sign is \",classes[a])\n",
    "plt.imshow(plot)\n",
    "plt.show()"
   ]
  },
  {
   "cell_type": "code",
   "execution_count": null,
   "metadata": {},
   "outputs": [],
   "source": []
  }
 ],
 "metadata": {
  "kernelspec": {
   "display_name": "Python 3",
   "language": "python",
   "name": "python3"
  },
  "language_info": {
   "codemirror_mode": {
    "name": "ipython",
    "version": 3
   },
   "file_extension": ".py",
   "mimetype": "text/x-python",
   "name": "python",
   "nbconvert_exporter": "python",
   "pygments_lexer": "ipython3",
   "version": "3.11.3"
  }
 },
 "nbformat": 4,
 "nbformat_minor": 2
}
